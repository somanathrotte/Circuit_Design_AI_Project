{
  "nbformat": 4,
  "nbformat_minor": 0,
  "metadata": {
    "colab": {
      "provenance": [],
      "include_colab_link": true
    },
    "kernelspec": {
      "name": "python3",
      "display_name": "Python 3"
    },
    "language_info": {
      "name": "python"
    }
  },
  "cells": [
    {
      "cell_type": "markdown",
      "metadata": {
        "id": "view-in-github",
        "colab_type": "text"
      },
      "source": [
        "<a href=\"https://colab.research.google.com/github/somanathrotte/Circuit_Design_AI_Project/blob/main/Comb_Circuit_Evolutionary_Algorithms.ipynb\" target=\"_parent\"><img src=\"https://colab.research.google.com/assets/colab-badge.svg\" alt=\"Open In Colab\"/></a>"
      ]
    },
    {
      "cell_type": "code",
      "source": [
        "import random\n",
        "\n",
        "# Constants\n",
        "TARGET_OUTPUT = 15  # Target output for the addition operation\n",
        "POPULATION_SIZE = 10  # Number of circuits in each generation\n",
        "GENE_LENGTH = 8  # Number of bits in each gene\n",
        "\n",
        "# Function to generate a random circuit (individual)\n",
        "def generate_circuit():\n",
        "    return [random.choice([0, 1]) for _ in range(GENE_LENGTH)]\n",
        "\n",
        "# Function to evaluate the fitness of a circuit\n",
        "def evaluate_fitness(circuit):\n",
        "    # Simulate the circuit and calculate the output\n",
        "    circuit_output = sum([2**i * bit for i, bit in enumerate(reversed(circuit))])\n",
        "\n",
        "    # Fitness is the absolute difference between the output and the target\n",
        "    fitness = abs(TARGET_OUTPUT - circuit_output)\n",
        "    return fitness\n",
        "\n",
        "# Function to perform crossover between two circuits\n",
        "def crossover(parent1, parent2):\n",
        "    crossover_point = random.randint(1, GENE_LENGTH - 1)\n",
        "    child = parent1[:crossover_point] + parent2[crossover_point:]\n",
        "    return child\n",
        "\n",
        "# Function to perform mutation on a circuit\n",
        "def mutate(circuit, mutation_rate):\n",
        "    for i in range(GENE_LENGTH):\n",
        "        if random.random() < mutation_rate:\n",
        "            circuit[i] = 1 - circuit[i]  # Flip the bit with the mutation rate\n",
        "    return circuit\n",
        "\n",
        "# Main evolutionary algorithm function\n",
        "def evolutionary_algorithm(generations, mutation_rate):\n",
        "    population = [generate_circuit() for _ in range(POPULATION_SIZE)]\n",
        "\n",
        "    for generation in range(generations):\n",
        "        # Evaluate fitness for each circuit\n",
        "        fitness_scores = [evaluate_fitness(circuit) for circuit in population]\n",
        "\n",
        "        # Select the top-performing circuits for reproduction\n",
        "        selected_indices = sorted(range(len(fitness_scores)), key=lambda k: fitness_scores[k])[:2]\n",
        "\n",
        "        # Create a new generation through crossover and mutation\n",
        "        new_population = [crossover(population[selected_indices[0]], population[selected_indices[1]])\n",
        "                          for _ in range(POPULATION_SIZE)]\n",
        "\n",
        "        # Apply mutation to the new generation\n",
        "        new_population = [mutate(circuit, mutation_rate) for circuit in new_population]\n",
        "\n",
        "        # Replace the old population with the new one\n",
        "        population = new_population\n",
        "\n",
        "        # Print the best circuit in the current generation\n",
        "        best_circuit = population[0]\n",
        "        best_fitness = evaluate_fitness(best_circuit)\n",
        "        print(f\"Generation {generation + 1}: Best Circuit {best_circuit}, Fitness {best_fitness}\")\n",
        "\n",
        "        # Check if the target is reached\n",
        "        if best_fitness == 0:\n",
        "            print(\"Target reached! Circuit found.\")\n",
        "            break\n",
        "\n",
        "# Run the evolutionary algorithm\n",
        "evolutionary_algorithm(generations=50, mutation_rate=0.1)\n"
      ],
      "metadata": {
        "colab": {
          "base_uri": "https://localhost:8080/"
        },
        "id": "yMuWGgKyI4r9",
        "outputId": "f37327af-3926-44dc-ac51-2319c34754d7"
      },
      "execution_count": null,
      "outputs": [
        {
          "output_type": "stream",
          "name": "stdout",
          "text": [
            "Generation 1: Best Circuit [1, 0, 0, 1, 0, 1, 0, 1], Fitness 134\n",
            "Generation 2: Best Circuit [0, 0, 0, 1, 0, 1, 0, 1], Fitness 6\n",
            "Generation 3: Best Circuit [0, 0, 0, 1, 0, 1, 0, 1], Fitness 6\n",
            "Generation 4: Best Circuit [0, 0, 0, 1, 0, 1, 0, 1], Fitness 6\n",
            "Generation 5: Best Circuit [0, 0, 0, 1, 0, 1, 0, 1], Fitness 6\n",
            "Generation 6: Best Circuit [0, 0, 0, 1, 0, 1, 0, 1], Fitness 6\n",
            "Generation 7: Best Circuit [0, 1, 0, 1, 0, 1, 0, 1], Fitness 70\n",
            "Generation 8: Best Circuit [0, 0, 0, 1, 0, 0, 0, 0], Fitness 1\n",
            "Generation 9: Best Circuit [0, 0, 0, 1, 0, 0, 1, 1], Fitness 4\n",
            "Generation 10: Best Circuit [0, 0, 0, 1, 1, 0, 0, 1], Fitness 10\n",
            "Generation 11: Best Circuit [0, 0, 0, 1, 0, 0, 0, 1], Fitness 2\n",
            "Generation 12: Best Circuit [0, 0, 1, 1, 0, 0, 0, 1], Fitness 34\n",
            "Generation 13: Best Circuit [0, 0, 0, 1, 0, 0, 0, 1], Fitness 2\n",
            "Generation 14: Best Circuit [0, 0, 0, 1, 0, 0, 0, 1], Fitness 2\n",
            "Generation 15: Best Circuit [0, 0, 0, 1, 0, 0, 1, 1], Fitness 4\n",
            "Generation 16: Best Circuit [0, 1, 0, 1, 1, 0, 0, 1], Fitness 74\n",
            "Generation 17: Best Circuit [0, 0, 0, 1, 1, 0, 0, 0], Fitness 9\n",
            "Generation 18: Best Circuit [0, 0, 0, 1, 0, 0, 0, 0], Fitness 1\n",
            "Generation 19: Best Circuit [1, 0, 0, 1, 0, 0, 0, 0], Fitness 129\n",
            "Generation 20: Best Circuit [0, 0, 0, 1, 0, 0, 0, 0], Fitness 1\n",
            "Generation 21: Best Circuit [0, 0, 0, 1, 0, 0, 0, 0], Fitness 1\n",
            "Generation 22: Best Circuit [0, 0, 0, 0, 0, 1, 0, 0], Fitness 11\n",
            "Generation 23: Best Circuit [0, 0, 0, 1, 0, 0, 0, 1], Fitness 2\n",
            "Generation 24: Best Circuit [1, 0, 0, 1, 0, 0, 0, 0], Fitness 129\n",
            "Generation 25: Best Circuit [0, 0, 0, 1, 0, 0, 0, 0], Fitness 1\n",
            "Generation 26: Best Circuit [0, 1, 0, 1, 0, 0, 0, 0], Fitness 65\n",
            "Generation 27: Best Circuit [0, 0, 0, 1, 0, 0, 0, 1], Fitness 2\n",
            "Generation 28: Best Circuit [0, 0, 0, 1, 0, 0, 0, 0], Fitness 1\n",
            "Generation 29: Best Circuit [1, 0, 0, 1, 0, 0, 1, 0], Fitness 131\n",
            "Generation 30: Best Circuit [0, 0, 0, 1, 0, 0, 0, 0], Fitness 1\n",
            "Generation 31: Best Circuit [0, 0, 0, 1, 1, 0, 0, 0], Fitness 9\n",
            "Generation 32: Best Circuit [0, 0, 0, 1, 0, 0, 0, 1], Fitness 2\n",
            "Generation 33: Best Circuit [0, 0, 0, 1, 1, 0, 0, 0], Fitness 9\n",
            "Generation 34: Best Circuit [0, 0, 1, 1, 0, 0, 0, 0], Fitness 33\n",
            "Generation 35: Best Circuit [0, 0, 0, 1, 1, 1, 0, 0], Fitness 13\n",
            "Generation 36: Best Circuit [1, 0, 0, 1, 0, 0, 0, 0], Fitness 129\n",
            "Generation 37: Best Circuit [0, 1, 0, 1, 1, 0, 1, 0], Fitness 75\n",
            "Generation 38: Best Circuit [0, 0, 0, 1, 0, 0, 1, 0], Fitness 3\n",
            "Generation 39: Best Circuit [0, 1, 0, 1, 0, 0, 0, 1], Fitness 66\n",
            "Generation 40: Best Circuit [0, 0, 1, 1, 0, 0, 0, 0], Fitness 33\n",
            "Generation 41: Best Circuit [0, 0, 0, 1, 0, 0, 0, 0], Fitness 1\n",
            "Generation 42: Best Circuit [0, 0, 0, 1, 0, 0, 0, 0], Fitness 1\n",
            "Generation 43: Best Circuit [0, 0, 0, 1, 0, 0, 0, 0], Fitness 1\n",
            "Generation 44: Best Circuit [0, 0, 0, 1, 0, 0, 1, 0], Fitness 3\n",
            "Generation 45: Best Circuit [0, 0, 0, 1, 0, 0, 0, 0], Fitness 1\n",
            "Generation 46: Best Circuit [0, 0, 0, 1, 0, 0, 0, 0], Fitness 1\n",
            "Generation 47: Best Circuit [0, 0, 0, 1, 1, 0, 0, 0], Fitness 9\n",
            "Generation 48: Best Circuit [0, 0, 1, 1, 0, 0, 0, 0], Fitness 33\n",
            "Generation 49: Best Circuit [0, 0, 0, 1, 0, 0, 0, 0], Fitness 1\n",
            "Generation 50: Best Circuit [0, 0, 0, 1, 0, 1, 0, 0], Fitness 5\n"
          ]
        }
      ]
    }
  ]
}