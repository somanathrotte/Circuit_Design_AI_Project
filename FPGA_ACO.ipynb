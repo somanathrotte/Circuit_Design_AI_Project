{
  "nbformat": 4,
  "nbformat_minor": 0,
  "metadata": {
    "colab": {
      "provenance": [],
      "include_colab_link": true
    },
    "kernelspec": {
      "name": "python3",
      "display_name": "Python 3"
    },
    "language_info": {
      "name": "python"
    }
  },
  "cells": [
    {
      "cell_type": "markdown",
      "metadata": {
        "id": "view-in-github",
        "colab_type": "text"
      },
      "source": [
        "<a href=\"https://colab.research.google.com/github/somanathrotte/Circuit_Design_AI_Project/blob/main/FPGA_ACO.ipynb\" target=\"_parent\"><img src=\"https://colab.research.google.com/assets/colab-badge.svg\" alt=\"Open In Colab\"/></a>"
      ]
    },
    {
      "cell_type": "code",
      "execution_count": null,
      "metadata": {
        "colab": {
          "base_uri": "https://localhost:8080/"
        },
        "id": "lgHnhx9P001S",
        "outputId": "e66bcbbd-5f89-4a07-ac38-b2bd0ba2dcbf"
      },
      "outputs": [
        {
          "output_type": "stream",
          "name": "stdout",
          "text": [
            "Best Solution: [4, 6, 2, 7, 8, 3, 9, 5, 1, 0]\n",
            "Best Distance: 2.6624010880608484\n"
          ]
        }
      ],
      "source": [
        "# Replace the placeholder distance matrix with your actual distances\n",
        "# For simplicity, let's assume a small 5x5 FPGA with random distances\n",
        "num_nodes = 5\n",
        "distance_matrix = np.random.rand(num_nodes, num_nodes)\n",
        "\n",
        "# Make the matrix symmetrical (assuming undirected connections)\n",
        "distance_matrix = (distance_matrix + distance_matrix.T) / 2\n",
        "\n",
        "# Ensure diagonal elements are set to zero (no distance from a component to itself)\n",
        "np.fill_diagonal(distance_matrix, 0)\n",
        "\n",
        "import numpy as np\n",
        "import random\n",
        "\n",
        "# Define the FPGA Placement Problem\n",
        "class FPGAPositioningProblem:\n",
        "    def __init__(self, num_nodes, distance_matrix):\n",
        "        self.num_nodes = num_nodes\n",
        "        self.distance_matrix = distance_matrix\n",
        "\n",
        "    def calculate_total_distance(self, solution):\n",
        "        total_distance = 0\n",
        "        for i in range(self.num_nodes - 1):\n",
        "            total_distance += self.distance_matrix[solution[i]][solution[i + 1]]\n",
        "        total_distance += self.distance_matrix[solution[-1]][solution[0]]  # Return to the starting node\n",
        "        return total_distance\n",
        "\n",
        "# Ant Colony Optimization Algorithm\n",
        "class AntColonyPlacement:\n",
        "    def __init__(self, problem, num_ants, generations, alpha=1, beta=2, rho=0.5, q0=0.7):\n",
        "        self.problem = problem\n",
        "        self.num_ants = num_ants\n",
        "        self.generations = generations\n",
        "        self.alpha = alpha\n",
        "        self.beta = beta\n",
        "        self.rho = rho\n",
        "        self.q0 = q0\n",
        "        self.pheromone_matrix = np.ones((problem.num_nodes, problem.num_nodes))\n",
        "\n",
        "    def run(self):\n",
        "        best_solution = None\n",
        "        best_distance = float('inf')\n",
        "\n",
        "        for generation in range(self.generations):\n",
        "            solutions = self.generate_solutions()\n",
        "            self.update_pheromones(solutions)\n",
        "\n",
        "            # Evaluate solutions and update the best solution\n",
        "            for solution in solutions:\n",
        "                distance = self.problem.calculate_total_distance(solution)\n",
        "                if distance < best_distance:\n",
        "                    best_distance = distance\n",
        "                    best_solution = solution\n",
        "\n",
        "            # Evaporate pheromones\n",
        "            self.pheromone_matrix *= (1 - self.rho)\n",
        "\n",
        "        return best_solution, best_distance\n",
        "\n",
        "    def generate_solutions(self):\n",
        "        solutions = []\n",
        "        for ant in range(self.num_ants):\n",
        "            solution = self.build_solution()\n",
        "            solutions.append(solution)\n",
        "        return solutions\n",
        "\n",
        "    def build_solution(self):\n",
        "        solution = list(range(self.problem.num_nodes))  # Start with a random solution\n",
        "        random.shuffle(solution)  # Randomly shuffle the initial solution\n",
        "\n",
        "        return solution\n",
        "\n",
        "    def choose_next_node(self, current_node, unvisited_nodes):\n",
        "        # Use the probability formula to choose the next node\n",
        "        probabilities = []\n",
        "        for node in unvisited_nodes:\n",
        "            pheromone = self.pheromone_matrix[current_node][node]\n",
        "            distance = 1 / (1 + self.problem.distance_matrix[current_node][node])\n",
        "            probabilities.append((node, pheromone ** self.alpha * distance ** self.beta))\n",
        "\n",
        "        if np.random.rand() < self.q0:\n",
        "            # Exploitation: Choose the node with the highest probability\n",
        "            next_node = max(probabilities, key=lambda x: x[1])[0]\n",
        "        else:\n",
        "            # Exploration: Choose a node based on roulette wheel selection\n",
        "            total_prob = sum(prob[1] for prob in probabilities)\n",
        "            selected_prob = np.random.uniform(0, total_prob)\n",
        "            cumulative_prob = 0\n",
        "            for node, prob in probabilities:\n",
        "                cumulative_prob += prob\n",
        "                if cumulative_prob >= selected_prob:\n",
        "                    next_node = node\n",
        "                    break\n",
        "\n",
        "        return next_node\n",
        "\n",
        "    def update_pheromones(self, solutions):\n",
        "        for i in range(self.problem.num_nodes):\n",
        "            for j in range(self.problem.num_nodes):\n",
        "                delta_pheromone = 0\n",
        "                for solution in solutions:\n",
        "                    if (i, j) in solution or (j, i) in solution:\n",
        "                        delta_pheromone += 1 / self.problem.calculate_total_distance(solution)\n",
        "\n",
        "                self.pheromone_matrix[i][j] = (1 - self.rho) * self.pheromone_matrix[i][j] + delta_pheromone\n",
        "\n",
        "# Example Usage\n",
        "if __name__ == \"__main__\":\n",
        "    # Define the FPGA Placement Problem\n",
        "    num_nodes = 10  # Number of nodes or FPGA components\n",
        "    distance_matrix = np.random.rand(num_nodes, num_nodes)  # Placeholder for the distance matrix\n",
        "\n",
        "    placement_problem = FPGAPositioningProblem(num_nodes, distance_matrix)\n",
        "\n",
        "    # Initialize the Ant Colony Optimization algorithm\n",
        "    ant_colony = AntColonyPlacement(problem=placement_problem, num_ants=10, generations=50)\n",
        "\n",
        "    # Run the algorithm\n",
        "    best_solution, best_distance = ant_colony.run()\n",
        "\n",
        "    # Print the results\n",
        "    print(\"Best Solution:\", best_solution)\n",
        "    print(\"Best Distance:\", best_distance)\n",
        "\n",
        "# Define the FPGA Placement Problem\n",
        "placement_problem = FPGAPositioningProblem(num_nodes, distance_matrix)"
      ]
    },
    {
      "cell_type": "code",
      "source": [
        "def plot_fpga_placement(solution, distance_matrix):\n",
        "    num_nodes = 10\n",
        "\n",
        "    # Extract x, y coordinates from the distance matrix (or provide your own coordinates)\n",
        "    coordinates = np.array([(np.cos(2 * np.pi * i / num_nodes), np.sin(2 * np.pi * i / num_nodes)) for i in range(num_nodes)])\n",
        "\n",
        "    # Plot the nodes\n",
        "    plt.scatter(coordinates[:, 0], coordinates[:, 1], c='red', marker='o', label='Nodes')\n",
        "\n",
        "    # Plot the connections\n",
        "    for i in range(num_nodes):\n",
        "        plt.text(coordinates[i, 0], coordinates[i, 1], str(i), ha='center', va='center', fontsize=10)\n",
        "        for j in range(i+1, num_nodes):\n",
        "            if (i, j) in solution or (j, i) in solution:\n",
        "                plt.plot([coordinates[i, 0], coordinates[j, 0]], [coordinates[i, 1], coordinates[j, 1]], c='blue', linestyle='-', linewidth=2)\n",
        "\n",
        "    # Connect the last and first nodes to close the loop\n",
        "    plt.plot([coordinates[-1, 0], coordinates[0, 0]], [coordinates[-1, 1], coordinates[0, 1]], c='blue', linestyle='-', linewidth=2)\n",
        "\n",
        "    plt.title('FPGA Placement')\n",
        "    plt.xlabel('X Coordinate')\n",
        "    plt.ylabel('Y Coordinate')\n",
        "    plt.legend()\n",
        "    plt.show()\n",
        "\n",
        "# Example Usage\n",
        "if __name__ == \"__main__\":\n",
        "    # Assuming you have already run the Ant Colony Optimization algorithm\n",
        "    # and obtained the best solution and distance matrix\n",
        "    best_solution, best_distance = ant_colony.run()\n",
        "\n",
        "    # Plot the FPGA placement\n",
        "    plot_fpga_placement(best_solution, distance_matrix)\n"
      ],
      "metadata": {
        "colab": {
          "base_uri": "https://localhost:8080/",
          "height": 472
        },
        "id": "WprBjB3j5GjV",
        "outputId": "fd1a312e-e080-4be8-b3dc-3df95b76e120"
      },
      "execution_count": null,
      "outputs": [
        {
          "output_type": "display_data",
          "data": {
            "text/plain": [
              "<Figure size 640x480 with 1 Axes>"
            ],
            "image/png": "[encoded data removed]"
          },
          "metadata": {}
        }
      ]
    }
  ]
}