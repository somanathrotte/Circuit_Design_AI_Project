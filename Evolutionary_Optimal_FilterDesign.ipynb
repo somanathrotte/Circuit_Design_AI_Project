{
  "nbformat": 4,
  "nbformat_minor": 0,
  "metadata": {
    "colab": {
      "provenance": [],
      "include_colab_link": true
    },
    "kernelspec": {
      "name": "python3",
      "display_name": "Python 3"
    },
    "language_info": {
      "name": "python"
    }
  },
  "cells": [
    {
      "cell_type": "markdown",
      "metadata": {
        "id": "view-in-github",
        "colab_type": "text"
      },
      "source": [
        "<a href=\"https://colab.research.google.com/github/somanathrotte/Circuit_Design_AI_Project/blob/main/Evolutionary_Optimal_FilterDesign.ipynb\" target=\"_parent\"><img src=\"https://colab.research.google.com/assets/colab-badge.svg\" alt=\"Open In Colab\"/></a>"
      ]
    },
    {
      "cell_type": "code",
      "source": [
        "import random\n",
        "import numpy as np\n",
        "from deap import base, creator, tools, algorithms\n",
        "import numpy as np\n",
        "\n",
        "# Assuming you have a desired signal and you want to design a filter to match it\n",
        "desired_signal = np.array([1, 0, -1, 0, 1])\n",
        "\n",
        "def evaluate_filter(individual):\n",
        "    if len(individual) != len(desired_signal):\n",
        "        # Return a tuple with a large negative fitness value to penalize the mismatch\n",
        "        return (float('-inf'),)\n",
        "\n",
        "    # Placeholder for filter response evaluation\n",
        "    filter_response = np.convolve(individual, desired_signal, mode='same')\n",
        "\n",
        "    # Evaluate the fitness based on how well the filter matches the desired signal\n",
        "    fitness_value = -np.sum(np.abs(filter_response - desired_signal))\n",
        "\n",
        "    return (fitness_value,)\n",
        "\n",
        "# Define the DEAP structure\n",
        "creator.create(\"FitnessMin\", base.Fitness, weights=(-1.0,))\n",
        "creator.create(\"Individual\", list, fitness=creator.FitnessMin)\n",
        "toolbox = base.Toolbox()\n",
        "toolbox.register(\"attr_float\", random.uniform, -1.0, 1.0)  # Example: Float values between -1.0 and 1.0\n",
        "toolbox.register(\"individual\", tools.initRepeat, creator.Individual, toolbox.attr_float, n=10)  # Modify 'n' as per your requirement\n",
        "toolbox.register(\"population\", tools.initRepeat, list, toolbox.individual)\n",
        "\n",
        "toolbox.register(\"evaluate\", evaluate_filter)\n",
        "toolbox.register(\"mate\", tools.cxBlend, alpha=0.5)\n",
        "toolbox.register(\"mutate\", tools.mutGaussian, mu=0, sigma=1, indpb=0.2)\n",
        "toolbox.register(\"select\", tools.selTournament, tournsize=3)\n",
        "\n",
        "# Main evolutionary algorithm\n",
        "def main():\n",
        "    population_size = 50\n",
        "    generations = 20\n",
        "\n",
        "    # Create the initial population\n",
        "    population = toolbox.population(n=population_size)\n",
        "\n",
        "    # Evaluate the entire population\n",
        "    fitness_values = list(map(toolbox.evaluate, population))\n",
        "    for ind, fit in zip(population, fitness_values):\n",
        "        ind.fitness.values = fit\n",
        "\n",
        "    # Evolutionary loop\n",
        "    for generation in range(generations):\n",
        "        offspring = algorithms.varAnd(population, toolbox, cxpb=0.7, mutpb=0.2)\n",
        "        fitness_values = list(map(toolbox.evaluate, offspring))\n",
        "        for ind, fit in zip(offspring, fitness_values):\n",
        "            ind.fitness.values = fit\n",
        "        population = toolbox.select(offspring, k=population_size)\n",
        "\n",
        "    # Get the best individual from the final population\n",
        "    best_individual = tools.selBest(population, k=1)[0]\n",
        "\n",
        "    # Print the best individual and its fitness\n",
        "    print(\"Best Individual:\", best_individual)\n",
        "    print(\"Fitness:\", best_individual.fitness.values[0])\n",
        "\n",
        "if __name__ == \"__main__\":\n",
        "    main()\n"
      ],
      "metadata": {
        "colab": {
          "base_uri": "https://localhost:8080/"
        },
        "id": "6E4GNRFkHJSG",
        "outputId": "0d14275a-6573-4b5a-af67-ece824d9e129"
      },
      "execution_count": null,
      "outputs": [
        {
          "output_type": "stream",
          "name": "stdout",
          "text": [
            "Best Individual: [-0.8747638816369372, -0.09655188840262696, 2.017056658090525, -0.9101476346471311, -0.21823570421720723, 4.177008583043161, -5.626482976304482, 2.857669622069329, -0.018832005556231435, -2.32814977922661]\n",
            "Fitness: -inf\n"
          ]
        }
      ]
    }
  ]
}